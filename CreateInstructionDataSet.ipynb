{
  "nbformat": 4,
  "nbformat_minor": 0,
  "metadata": {
    "colab": {
      "provenance": [],
      "authorship_tag": "ABX9TyPG+WQPQFORDT9VyVdgjdCf",
      "include_colab_link": true
    },
    "kernelspec": {
      "name": "python3",
      "display_name": "Python 3"
    },
    "language_info": {
      "name": "python"
    }
  },
  "cells": [
    {
      "cell_type": "markdown",
      "metadata": {
        "id": "view-in-github",
        "colab_type": "text"
      },
      "source": [
        "<a href=\"https://colab.research.google.com/github/sumeetlearning101/LearningAI/blob/main/CreateInstructionDataSet.ipynb\" target=\"_parent\"><img src=\"https://colab.research.google.com/assets/colab-badge.svg\" alt=\"Open In Colab\"/></a>"
      ]
    },
    {
      "cell_type": "markdown",
      "source": [],
      "metadata": {
        "id": "dP01UzqLvv1q"
      }
    },
    {
      "cell_type": "markdown",
      "source": [
        "https://medium.com/@kshitiz.sahay26/how-i-created-an-instruction-dataset-using-gpt-3-5-to-fine-tune-llama-2-for-news-classification-ed02fe41c81f"
      ],
      "metadata": {
        "id": "hGIvFWfQvxo9"
      }
    },
    {
      "cell_type": "code",
      "source": [],
      "metadata": {
        "id": "0LznX4LrwCQ3"
      },
      "execution_count": null,
      "outputs": []
    }
  ]
}